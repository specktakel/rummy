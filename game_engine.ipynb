{
 "cells": [
  {
   "cell_type": "code",
   "execution_count": 67,
   "metadata": {},
   "outputs": [],
   "source": [
    "import numpy as np\n",
    "import random"
   ]
  },
  {
   "cell_type": "code",
   "execution_count": 134,
   "metadata": {},
   "outputs": [],
   "source": [
    "class Table():\n",
    "    def __init__(self, *player_names):\n",
    "        self.colours = np.array(['red', 'blue', 'yellow', 'black'])\n",
    "        self.numbers = np.arange(1, 14, dtype=int)\n",
    "        self.stones = []\n",
    "        self.players = []\n",
    "        # self.blocks = []     # can't access this attribute from child class, useless as of now\n",
    "        self.grid = [[None for j in range(5)] for i in range(5)]   #i:j, i:row, j:column, is 6 rows by 28 columns\n",
    "        for c in self.colours:\n",
    "            for num in self.numbers:\n",
    "                self.stones.append(Stone(colour=c, number=num))\n",
    "                self.stones.append(Stone(colour=c, number=num))\n",
    "                # print(c, num)\n",
    "        #self.stones.append(stone(j=True))\n",
    "        #self.stones.append(stone(j=True))\n",
    "        for c, name in enumerate(player_names):\n",
    "            self.players.append(Player(name=name, num=c))\n",
    "        #print(self.players)\n",
    "        # distribute stones randomly into players' inventories:\n",
    "        self.rand_order = np.array(random.sample(range(len(self.stones)), len(self.players) * 14))\n",
    "        # print(rand_order)\n",
    "        for c, p in enumerate(self.players):\n",
    "            for i in range(c * 14, (c + 1) * 14):\n",
    "                self.stones[self.rand_order[i]].owner = p.name\n",
    "                p.inventory.append(self.stones[self.rand_order[i]])\n",
    "        self.stones = [s for c, s in enumerate(self.stones) if not c in self.rand_order]\n",
    "\n",
    "\n",
    "\n",
    "    def draw_stone(self, num):\n",
    "        try:\n",
    "            i = random.sample(range(len(self.stones)), 1)[0]\n",
    "            self.stones[i].owner = self.players[num].name\n",
    "            self.players[num].inventory.append(self.stones[i])\n",
    "            self.stones.pop(i)\n",
    "        except ValueError:\n",
    "            print(\"No more stones left to draw from.\")\n",
    "\n",
    "\n",
    "\n",
    "    def display_grid(self):\n",
    "        for row in table.grid:\n",
    "            r = []\n",
    "            for slot in row:\n",
    "                try:\n",
    "                    r.append([slot.num, slot.c])\n",
    "                except:\n",
    "                    r.append('nan')\n",
    "            print(r)\n",
    "\n",
    "    def move_stone(self, init, final):\n",
    "        x1 = init[0]\n",
    "        y1 = init[1]\n",
    "        x2 = final[0]\n",
    "        y2 = final[1]\n",
    "        if self.grid[x2][y2] is None and self.grid[x1][y1] is not None:\n",
    "            s = self.grid[x1][y1]\n",
    "            self.grid[x2][y2] = s\n",
    "            self.grid[x1][y1] = None\n",
    "        else:\n",
    "            print(\"Impossible move.\")     # TODO maybe add reaction for the table to indicate impossible move!\n",
    "\n",
    "\n",
    "    def set_stone(self, stone, final):\n",
    "        x = final[0]\n",
    "        y = final[1]\n",
    "        if self.grid[x][y] is None:\n",
    "            self.grid[x][y] = stone\n",
    "        else:\n",
    "            print(\"Impossible move.\")\n",
    "\n",
    "\n",
    "    def reset_all_moves(self):\n",
    "        pass\n",
    "        # need to write method to reset all stuff a\n",
    "        \n",
    "        \n",
    "    def move_done(self):\n",
    "        valid = self.build_blocks()\n",
    "        return valid\n",
    "\n",
    "\n",
    "    def build_blocks(self):\n",
    "        for c, row in enumerate(self.grid):    # run through rows\n",
    "            b = []\n",
    "            start = False\n",
    "            end = False\n",
    "            for c_2, slot in enumerate(row):\n",
    "                if slot is not None:\n",
    "                    b.append(slot)\n",
    "                    start = True\n",
    "                    print(\"Found a stone\")\n",
    "                    print(b)\n",
    "                else:\n",
    "                    end = True\n",
    "                if c_2 == len(row) - 1:\n",
    "                    end = True\n",
    "                else:\n",
    "                    pass\n",
    "                if end and b:\n",
    "                    bl = Block(b)\n",
    "                    try:\n",
    "                        valid = np.append(valid, bl.check_rules())\n",
    "                    except UnboundLocalError:\n",
    "                        valid = np.array([bl.check_rules()])\n",
    "                    finally:\n",
    "                        #print(valid)\n",
    "                        start = False\n",
    "                        end = False\n",
    "                    b = []\n",
    "                    print(valid)\n",
    "                else:\n",
    "                    pass\n",
    "        #print(valid)            \n",
    "        return np.all(valid)\n",
    "                        \n",
    "                    \n",
    "                \n",
    "                    \n",
    "            \n",
    "class Stone(Table):\n",
    "    '''Class to define stones, their behaviour etc.\n",
    "    '''\n",
    "    \n",
    "    def __init__(self, colour=None, number=None, j=False):\n",
    "        if j:\n",
    "            self.joker = True\n",
    "            self.num = None\n",
    "            self.c = None\n",
    "        else:\n",
    "            self.joker = False\n",
    "            self.num = number\n",
    "            self.c = colour\n",
    "            if self.num == 13:\n",
    "                self.n_h = 1\n",
    "            else:\n",
    "                self.n_h = self.num + 1\n",
    "            \n",
    "            if self.num == 1:\n",
    "                self.n_l = 13\n",
    "            else:\n",
    "                self.n_l = self.num -1\n",
    "    \n",
    "        self.owner = 'table'\n",
    "\n",
    "        \n",
    "class Player(Table):\n",
    "    def __init__(self, name=None, num=None):\n",
    "        self.inventory = []\n",
    "        self.name = name\n",
    "        self.number = num\n",
    "        print(self.name)\n",
    "\n",
    "\n",
    "\n",
    "\n",
    "\n",
    "class Block(Table):\n",
    "    def __init__(self, stones):\n",
    "        self.stones = stones\n",
    "        self.valid = self.check_rules()\n",
    "        \n",
    "\n",
    "    def check_rules(self):\n",
    "        self.colours = np.array([s.c for s in self.stones])\n",
    "        self.numbers = np.array([s.num for s in self.stones])\n",
    "        self.length = len(self.stones)\n",
    "        self.same_colours = self._same_colours()\n",
    "        self.diff_colours = self._diff_colours()\n",
    "        self.same_numbers = self._same_numbers()\n",
    "        try:\n",
    "            self.cons_numbers = self._cons_numbers()\n",
    "        except IndexError:\n",
    "            self.valid = False\n",
    "            return self.valid\n",
    "        if self.same_colours and self.cons_numbers and self.length >= 3:\n",
    "            self.valid = True\n",
    "        elif self.diff_colours and self.same_numbers and self.length >= 3:\n",
    "            self.vaild = True\n",
    "        else:\n",
    "            self.valid = False\n",
    "        return self.valid\n",
    "        #self.consecutive_numbers = \n",
    "        #if  # and consecutive numbers:\n",
    "        #    return True\n",
    "        #elif np.all([i == self.numbers[0] for i in self.numbers]) # and different colours:\n",
    "        #    return True\n",
    "        #else:\n",
    "        #    return False\n",
    "\n",
    "    def _same_colours(self):\n",
    "        return np.all([i == self.colours[0] for i in self.colours])\n",
    "    \n",
    "    def _diff_colours(self):\n",
    "        if len(self.colours) == len(set(self.colours)):\n",
    "            return True\n",
    "        else:\n",
    "            return False\n",
    "    \n",
    "    def _same_numbers(self):\n",
    "        return np.all([i == self.numbers[0] for i in self.numbers])\n",
    "        \n",
    "        \n",
    "    def _cons_numbers(self):  \n",
    "        self.stones_out = self.stones[1:].copy()\n",
    "        self.stones_in = [self.stones[0]]\n",
    "        # print(self.stones_in[0].num)\n",
    "        diff = True\n",
    "        while diff:\n",
    "            for c, s_out in enumerate(self.stones_out):\n",
    "                if s_out.num == self.stones_in[-1].n_h:\n",
    "                    self.stones_in.append(s_out)\n",
    "                    self.stones_out.pop(c)\n",
    "                    break\n",
    "                elif s_out.num == self.stones_in[0].n_l:\n",
    "                    self.stones_in.insert(0, s_out)\n",
    "                    self.stones_out.pop(c)\n",
    "                    break\n",
    "            else:\n",
    "                diff = False\n",
    "    \n",
    "        if len(self.stones_out) == 0:\n",
    "            self.stones = self.stones_in.copy()\n",
    "            del self.stones_out\n",
    "            del self.stones_in\n",
    "            return True\n",
    "        else:\n",
    "            del self.stones_out\n",
    "            del self.stones_in\n",
    "        return False\n",
    "       \n",
    "                \n",
    "                    \n",
    "                    "
   ]
  },
  {
   "cell_type": "code",
   "execution_count": 75,
   "metadata": {},
   "outputs": [
    {
     "name": "stdout",
     "output_type": "stream",
     "text": [
      "alina\n",
      "julian\n",
      "red 8\n"
     ]
    }
   ],
   "source": [
    "table = Table('alina', 'julian')\n",
    "j = table.players[1]\n",
    "print(j.inventory[0].c, j.inventory[0].num)\n",
    "#table.display_grid()"
   ]
  },
  {
   "cell_type": "code",
   "execution_count": 133,
   "metadata": {},
   "outputs": [
    {
     "name": "stdout",
     "output_type": "stream",
     "text": [
      "alina\n",
      "julian\n",
      "Found a stone\n",
      "[<__main__.Stone object at 0x7faeb7693dd0>]\n",
      "Found a stone\n",
      "[<__main__.Stone object at 0x7faeb7693dd0>, <__main__.Stone object at 0x7faeec397e50>]\n",
      "Found a stone\n",
      "[<__main__.Stone object at 0x7faeb7693dd0>, <__main__.Stone object at 0x7faeec397e50>, <__main__.Stone object at 0x7faeb7641190>]\n",
      "[ True]\n",
      "Found a stone\n",
      "[<__main__.Stone object at 0x7faeb7641f10>]\n",
      "[ True False]\n"
     ]
    },
    {
     "data": {
      "text/plain": [
       "False"
      ]
     },
     "execution_count": 133,
     "metadata": {},
     "output_type": "execute_result"
    }
   ],
   "source": [
    "table = Table('alina', 'julian')\n",
    "s1 = Stone(colour='black', number=3)\n",
    "s2 = Stone(colour='black', number=4)\n",
    "s3 = Stone(colour='black', number=5)\n",
    "s4= Stone(colour='black', number=6)\n",
    "table.set_stone(s1, [0, 0])\n",
    "table.set_stone(s2, [0, 1])\n",
    "table.set_stone(s3, [0, 2])\n",
    "table.set_stone(s4, [1, 3])\n",
    "table.build_blocks()"
   ]
  },
  {
   "cell_type": "code",
   "execution_count": 80,
   "metadata": {
    "scrolled": true
   },
   "outputs": [
    {
     "name": "stdout",
     "output_type": "stream",
     "text": [
      "black\n",
      "black\n",
      "black\n",
      "black\n"
     ]
    }
   ],
   "source": [
    "for row in table.grid:\n",
    "    for slot in row:\n",
    "        try:\n",
    "            print(slot.c)\n",
    "        except:\n",
    "            pass"
   ]
  },
  {
   "cell_type": "code",
   "execution_count": null,
   "metadata": {},
   "outputs": [],
   "source": [
    "for player in table.players:\n",
    "    print(player.name)\n",
    "    print(list(s.c for s in player.inventory))\n",
    "    print(list(s.num for s in player.inventory))\n",
    "    print(list(s.joker for s in player.inventory))"
   ]
  },
  {
   "cell_type": "code",
   "execution_count": null,
   "metadata": {},
   "outputs": [],
   "source": [
    "b = Block(table.players[0].inventory[0:4])"
   ]
  },
  {
   "cell_type": "code",
   "execution_count": null,
   "metadata": {},
   "outputs": [],
   "source": [
    "for s in b.stones: print(s.num)"
   ]
  },
  {
   "cell_type": "code",
   "execution_count": null,
   "metadata": {},
   "outputs": [],
   "source": [
    "b.check_rules()"
   ]
  },
  {
   "cell_type": "code",
   "execution_count": null,
   "metadata": {},
   "outputs": [],
   "source": [
    "s = Stone(colour = 'black', number=13)"
   ]
  },
  {
   "cell_type": "code",
   "execution_count": null,
   "metadata": {},
   "outputs": [],
   "source": [
    "c = 'black'\n",
    "\n",
    "s = [Stone(colour=c,  number=1), Stone(colour=c, number=2), Stone(colour=c, number=3)]\n",
    "b = Block(s)\n",
    "b.check_rules()"
   ]
  },
  {
   "cell_type": "code",
   "execution_count": null,
   "metadata": {},
   "outputs": [],
   "source": [
    "l = [[1, 2, 3, 43], [5, 6, 7, 8]]\n",
    "for i in l:\n",
    "    print(i)"
   ]
  },
  {
   "cell_type": "code",
   "execution_count": null,
   "metadata": {},
   "outputs": [],
   "source": []
  },
  {
   "cell_type": "code",
   "execution_count": null,
   "metadata": {},
   "outputs": [],
   "source": [
    "l = [1, 2, 3, 4]\n",
    "ind = [2, 3]\n",
    "l = [v for c, v in enumerate(l) if not c in ind]"
   ]
  },
  {
   "cell_type": "code",
   "execution_count": null,
   "metadata": {},
   "outputs": [],
   "source": [
    "l = []\n",
    "random.sample(range(len(l)), 1)"
   ]
  },
  {
   "cell_type": "code",
   "execution_count": 131,
   "metadata": {},
   "outputs": [],
   "source": [
    "l = []"
   ]
  },
  {
   "cell_type": "code",
   "execution_count": 132,
   "metadata": {},
   "outputs": [
    {
     "name": "stdout",
     "output_type": "stream",
     "text": [
      "False\n"
     ]
    }
   ],
   "source": [
    "if l:\n",
    "    print(True)\n",
    "else:\n",
    "    print(False)"
   ]
  },
  {
   "cell_type": "code",
   "execution_count": null,
   "metadata": {},
   "outputs": [],
   "source": [
    "cl"
   ]
  },
  {
   "cell_type": "code",
   "execution_count": 64,
   "metadata": {},
   "outputs": [
    {
     "name": "stdout",
     "output_type": "stream",
     "text": [
      "[[6, 'blue'], 'nan', 'nan', 'nan', 'nan']\n",
      "['nan', 'nan', 'nan', 'nan', 'nan']\n",
      "['nan', 'nan', 'nan', 'nan', 'nan']\n",
      "['nan', 'nan', 'nan', 'nan', 'nan']\n",
      "['nan', 'nan', 'nan', 'nan', 'nan']\n"
     ]
    }
   ],
   "source": [
    "table.display_grid()"
   ]
  },
  {
   "cell_type": "code",
   "execution_count": 127,
   "metadata": {},
   "outputs": [
    {
     "ename": "NameError",
     "evalue": "name 'l' is not defined",
     "output_type": "error",
     "traceback": [
      "\u001b[0;31m---------------------------------------------------------------------------\u001b[0m",
      "\u001b[0;31mNameError\u001b[0m                                 Traceback (most recent call last)",
      "\u001b[0;32m<ipython-input-127-cde25b5e10ad>\u001b[0m in \u001b[0;36m<module>\u001b[0;34m()\u001b[0m\n\u001b[0;32m----> 1\u001b[0;31m \u001b[0ml\u001b[0m\u001b[0;34m\u001b[0m\u001b[0;34m\u001b[0m\u001b[0m\n\u001b[0m",
      "\u001b[0;31mNameError\u001b[0m: name 'l' is not defined"
     ]
    }
   ],
   "source": [
    "l"
   ]
  },
  {
   "cell_type": "code",
   "execution_count": null,
   "metadata": {},
   "outputs": [],
   "source": []
  }
 ],
 "metadata": {
  "kernelspec": {
   "display_name": "Python 3",
   "language": "python",
   "name": "python3"
  },
  "language_info": {
   "codemirror_mode": {
    "name": "ipython",
    "version": 3
   },
   "file_extension": ".py",
   "mimetype": "text/x-python",
   "name": "python",
   "nbconvert_exporter": "python",
   "pygments_lexer": "ipython3",
   "version": "3.7.9"
  }
 },
 "nbformat": 4,
 "nbformat_minor": 4
}
