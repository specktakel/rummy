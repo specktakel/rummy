{
 "cells": [
  {
   "cell_type": "code",
   "execution_count": 1,
   "metadata": {},
   "outputs": [],
   "source": [
    "import numpy as np\n",
    "import random"
   ]
  },
  {
   "cell_type": "code",
   "execution_count": 26,
   "metadata": {},
   "outputs": [],
   "source": [
    "class table():\n",
    "    colours = np.array(['red', 'blue', 'yellow', 'black'])\n",
    "    numbers = np.arange(1, 14, dtype=int)\n",
    "    stones = []\n",
    "    players = []\n",
    "    blocks = []\n",
    "    def __init__(self, *player_names):\n",
    "        for c in self.colours:\n",
    "            for num in self.numbers:\n",
    "                self.stones.append(stone(colour=c, number=num))\n",
    "                self.stones.append(stone(colour=c, number=num))\n",
    "                # print(c, num)\n",
    "        self.stones.append(stone(j=True))\n",
    "        self.stones.append(stone(j=True))\n",
    "        for name in player_names:\n",
    "            self.players.append(player(name=name))\n",
    "        #print(self.players)\n",
    "        # distribute stones randomly into players' inventories:\n",
    "        rand_order = np.array(random.sample(range(len(self.stones)), len(self.players) * 14), dtype=int)\n",
    "        print(rand_order)\n",
    "        for c, p in enumerate(self.players):\n",
    "            for i in range(c * 14, (c + 1) * 14):\n",
    "                self.stones[rand_order[i]].owner = p.name\n",
    "                p.inventory.append(self.stones[rand_order[i]])\n",
    "\n",
    "    \n",
    "            \n",
    "class stone(table):\n",
    "    '''Class to define stones, their behaviour etc.\n",
    "    '''\n",
    "    \n",
    "    def __init__(self, colour=None, number=None, j=False):\n",
    "        '''Initialize stones from file.\n",
    "        '''\n",
    "        if j:\n",
    "            self.joker = True\n",
    "            self.num = None\n",
    "            self.c = None\n",
    "        else:\n",
    "            self.joker = False\n",
    "            self.num = number\n",
    "            self.c = colour\n",
    "        self.owner = 'table'\n",
    "        # table.stones.append(self)\n",
    "        \n",
    "class player(table):\n",
    "    def __init__(self, name=None):\n",
    "        self.inventory = []\n",
    "        self.name = name\n",
    "        print(self.name)\n",
    "    \n",
    "    def set_stone(self):\n",
    "        pass\n",
    "\n",
    "class block(table):\n",
    "    def __init__(self, stones):\n",
    "        self.stones = stones\n",
    "        super(block, self).blocks.append(self)\n",
    "        self.valid = self.check_rules()\n",
    "\n",
    "    def check_rules(self):\n",
    "        self.colours = np.array([s.c for s in self.stones])\n",
    "        self.numbers = np.array([s.num for s in self.stones])\n",
    "        self.same_colours = self._same_colours()\n",
    "        self.length = len(self.stones)\n",
    "        #self.consecutive_numbers = \n",
    "        #if  # and consecutive numbers:\n",
    "        #    return True\n",
    "        #elif np.all([i == self.numbers[0] for i in self.numbers]) # and different colours:\n",
    "        #    return True\n",
    "        #else:\n",
    "        #    return False\n",
    "\n",
    "    def _same_colours(self):\n",
    "        return np.all([i == self.colours[0] for i in self.colours])\n",
    "    \n",
    "    def _cons_numbers(self):\n",
    "        sorted_list = np.sort(self.numbers)\n",
    "        if not 1 in sorted_list and not 13 in sorted_list:\n",
    "            diff = np.diff(sorted_list)\n"
   ]
  },
  {
   "cell_type": "code",
   "execution_count": 27,
   "metadata": {},
   "outputs": [
    {
     "name": "stdout",
     "output_type": "stream",
     "text": [
      "alina\n",
      "julian\n",
      "[100  84  77  99  38  27  74  41  40  65  68  56  32   4  98 103  96  20\n",
      "   1  11  87  12  47  71   0  59  86  25]\n"
     ]
    },
    {
     "data": {
      "text/plain": [
       "<__main__.table at 0x7ff18bceee50>"
      ]
     },
     "execution_count": 27,
     "metadata": {},
     "output_type": "execute_result"
    }
   ],
   "source": [
    "table('alina', 'julian')"
   ]
  },
  {
   "cell_type": "code",
   "execution_count": 28,
   "metadata": {},
   "outputs": [
    {
     "name": "stdout",
     "output_type": "stream",
     "text": [
      "['black', 'black', 'yellow', 'black', 'blue', 'blue', 'yellow', 'blue', 'blue', 'yellow', 'yellow', 'yellow', 'blue', 'red']\n",
      "[12, 4, 13, 11, 7, 1, 12, 8, 8, 7, 9, 3, 4, 3]\n",
      "[False, False, False, False, False, False, False, False, False, False, False, False, False, False]\n",
      "['black', 'black', 'black', 'red', 'red', 'red', 'black', 'red', 'blue', 'yellow', 'red', 'yellow', 'black', 'red']\n",
      "[11, 13, 10, 11, 1, 6, 5, 7, 11, 10, 1, 4, 5, 13]\n",
      "[False, False, False, False, False, False, False, False, False, False, False, False, False, False]\n"
     ]
    }
   ],
   "source": [
    "for player in table.players:\n",
    "    print(list(s.c for s in player.inventory))\n",
    "    print(list(s.num for s in player.inventory))\n",
    "    print(list(s.joker for s in player.inventory))"
   ]
  },
  {
   "cell_type": "code",
   "execution_count": 29,
   "metadata": {},
   "outputs": [],
   "source": [
    "b = block(table.players[0].inventory[0:4])"
   ]
  },
  {
   "cell_type": "code",
   "execution_count": 30,
   "metadata": {},
   "outputs": [
    {
     "name": "stdout",
     "output_type": "stream",
     "text": [
      "black\n",
      "black\n",
      "yellow\n",
      "black\n"
     ]
    }
   ],
   "source": [
    "for s in b.stones: print(s.c)"
   ]
  },
  {
   "cell_type": "code",
   "execution_count": 31,
   "metadata": {},
   "outputs": [
    {
     "data": {
      "text/plain": [
       "array(['black', 'black', 'yellow', 'black'], dtype='<U6')"
      ]
     },
     "execution_count": 31,
     "metadata": {},
     "output_type": "execute_result"
    }
   ],
   "source": [
    "b.colours"
   ]
  },
  {
   "cell_type": "code",
   "execution_count": 25,
   "metadata": {},
   "outputs": [
    {
     "ename": "SyntaxError",
     "evalue": "unexpected EOF while parsing (<ipython-input-25-063e2398367e>, line 3)",
     "output_type": "error",
     "traceback": [
      "\u001b[0;36m  File \u001b[0;32m\"<ipython-input-25-063e2398367e>\"\u001b[0;36m, line \u001b[0;32m3\u001b[0m\n\u001b[0;31m    if 13 in l:\u001b[0m\n\u001b[0m               ^\u001b[0m\n\u001b[0;31mSyntaxError\u001b[0m\u001b[0;31m:\u001b[0m unexpected EOF while parsing\n"
     ]
    }
   ],
   "source": [
    "l = [1, 13, 2]\n",
    "def check(l):\n",
    "    if 13 in l:\n",
    "        "
   ]
  },
  {
   "cell_type": "code",
   "execution_count": null,
   "metadata": {},
   "outputs": [],
   "source": [
    "sort = sorted(l)"
   ]
  },
  {
   "cell_type": "code",
   "execution_count": null,
   "metadata": {},
   "outputs": [],
   "source": [
    "sort"
   ]
  },
  {
   "cell_type": "code",
   "execution_count": null,
   "metadata": {},
   "outputs": [],
   "source": [
    "np.diff(sort)"
   ]
  },
  {
   "cell_type": "code",
   "execution_count": 13,
   "metadata": {},
   "outputs": [
    {
     "data": {
      "text/plain": [
       "array([4, 1])"
      ]
     },
     "execution_count": 13,
     "metadata": {},
     "output_type": "execute_result"
    }
   ],
   "source": [
    "np.array(random.sample(range(1, 5), 2))"
   ]
  },
  {
   "cell_type": "code",
   "execution_count": null,
   "metadata": {},
   "outputs": [],
   "source": []
  }
 ],
 "metadata": {
  "kernelspec": {
   "display_name": "Python 3",
   "language": "python",
   "name": "python3"
  },
  "language_info": {
   "codemirror_mode": {
    "name": "ipython",
    "version": 3
   },
   "file_extension": ".py",
   "mimetype": "text/x-python",
   "name": "python",
   "nbconvert_exporter": "python",
   "pygments_lexer": "ipython3",
   "version": "3.7.8"
  }
 },
 "nbformat": 4,
 "nbformat_minor": 4
}
