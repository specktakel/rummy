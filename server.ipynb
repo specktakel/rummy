{
 "cells": [
  {
   "cell_type": "code",
   "execution_count": 1,
   "metadata": {},
   "outputs": [],
   "source": [
    "from _thread import *\n",
    "import socket\n",
    "import sys"
   ]
  },
  {
   "cell_type": "code",
   "execution_count": 2,
   "metadata": {},
   "outputs": [],
   "source": [
    "server = \"192.168.178.21\"\n",
    "port = 5555"
   ]
  },
  {
   "cell_type": "code",
   "execution_count": null,
   "metadata": {},
   "outputs": [
    {
     "name": "stdout",
     "output_type": "stream",
     "text": [
      "Waiting\n",
      "Connected to ('192.168.178.21', 58820)\n",
      "Disconnected\n",
      "Lost connection\n",
      "Connected to ('192.168.178.21', 58870)\n",
      "Connected to ('192.168.178.21', 58874)\n",
      "Received: Hello!\n",
      "Sending: Hello!\n",
      "Received: Working?\n",
      "Sending: Working?\n"
     ]
    }
   ],
   "source": [
    "s = socket.socket(socket.AF_INET, socket.SOCK_STREAM)\n",
    "try:\n",
    "    s.bind((server, port))\n",
    "except socket.error as e:\n",
    "    print(e)\n",
    "\n",
    "s.listen(2)\n",
    "print(\"Waiting\")\n",
    "\n",
    "\n",
    "def threaded_client(conn):\n",
    "    conn.send(str.encode(\"Connected!\"))\n",
    "    reply = \"\"\n",
    "    while True:\n",
    "        try:\n",
    "            data = conn.recv(2048)\n",
    "            reply = data.decode(\"utf-8\")\n",
    "            \n",
    "            if not data:\n",
    "                print(\"Disconnected\")\n",
    "                break\n",
    "            else:\n",
    "                print(\"Received:\", reply)\n",
    "                print(\"Sending:\", reply)\n",
    "            conn.sendall(str.encode(reply))\n",
    "        except:\n",
    "            break\n",
    "    print(\"Lost connection\")\n",
    "    conn.close()\n",
    "\n",
    "\n",
    "while True:\n",
    "    conn, addr = s.accept()\n",
    "    print(\"Connected to\", addr)\n",
    "    start_new_thread(threaded_client, (conn,))\n",
    "\n",
    "\n"
   ]
  },
  {
   "cell_type": "code",
   "execution_count": null,
   "metadata": {},
   "outputs": [],
   "source": []
  }
 ],
 "metadata": {
  "kernelspec": {
   "display_name": "Python 3",
   "language": "python",
   "name": "python3"
  },
  "language_info": {
   "codemirror_mode": {
    "name": "ipython",
    "version": 3
   },
   "file_extension": ".py",
   "mimetype": "text/x-python",
   "name": "python",
   "nbconvert_exporter": "python",
   "pygments_lexer": "ipython3",
   "version": "3.7.9"
  }
 },
 "nbformat": 4,
 "nbformat_minor": 4
}
