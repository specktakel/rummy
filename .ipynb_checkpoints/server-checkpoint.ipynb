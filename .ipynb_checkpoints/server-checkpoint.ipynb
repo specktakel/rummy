{
 "cells": [
  {
   "cell_type": "code",
   "execution_count": null,
   "metadata": {},
   "outputs": [],
   "source": [
    "from _thread import *\n",
    "import socket\n",
    "import sys\n",
    "from player import Player\n",
    "import pickle"
   ]
  },
  {
   "cell_type": "code",
   "execution_count": null,
   "metadata": {},
   "outputs": [],
   "source": [
    "server = \"192.168.178.21\"\n",
    "port = 5555"
   ]
  },
  {
   "cell_type": "code",
   "execution_count": null,
   "metadata": {},
   "outputs": [],
   "source": [
    "s = socket.socket(socket.AF_INET, socket.SOCK_STREAM)\n",
    "try:\n",
    "    s.bind((server, port))\n",
    "except socket.error as e:\n",
    "    print(e)\n",
    "\n",
    "s.listen(2)\n",
    "print(\"Waiting\")\n",
    "\n",
    "players = [Player(0, 0, 50, 50, (255, 0, 0)), Player(100, 100, 50, 50, (0, 0, 255))]\n",
    "\n",
    "def threaded_client(conn, player):\n",
    "    conn.send(pickle.dumps(players[player]))\n",
    "\n",
    "    while True:\n",
    "        try:\n",
    "            data = pickle.loads(conn.recv(2048))\n",
    "            players[player] = data\n",
    "            \n",
    "            if not data:\n",
    "                print(\"Disconnected\")\n",
    "                break\n",
    "            else:\n",
    "                if player == 1:\n",
    "                    reply = players[0]\n",
    "                else:\n",
    "                    reply = players[1]\n",
    "                print(\"Received:\", data)\n",
    "                print(\"Sending:\", reply)\n",
    "            conn.sendall(pickle.dumps(reply))\n",
    "        except:\n",
    "            break\n",
    "    print(\"Lost connection\")\n",
    "    conn.close()\n",
    "\n",
    "currentPlayer = 0\n",
    "while True:\n",
    "    conn, addr = s.accept()\n",
    "    print(\"Connected to\", addr)\n",
    "    start_new_thread(threaded_client, (conn, currentPlayer))\n",
    "    currentPlayer += 1\n",
    "\n",
    "\n"
   ]
  },
  {
   "cell_type": "code",
   "execution_count": null,
   "metadata": {},
   "outputs": [],
   "source": [
    "\"lol\".encode()"
   ]
  },
  {
   "cell_type": "code",
   "execution_count": null,
   "metadata": {},
   "outputs": [],
   "source": [
    "str.encode(\"lol\")"
   ]
  },
  {
   "cell_type": "code",
   "execution_count": null,
   "metadata": {},
   "outputs": [],
   "source": []
  }
 ],
 "metadata": {
  "kernelspec": {
   "display_name": "Python 3",
   "language": "python",
   "name": "python3"
  },
  "language_info": {
   "codemirror_mode": {
    "name": "ipython",
    "version": 3
   },
   "file_extension": ".py",
   "mimetype": "text/x-python",
   "name": "python",
   "nbconvert_exporter": "python",
   "pygments_lexer": "ipython3",
   "version": "3.7.9"
  }
 },
 "nbformat": 4,
 "nbformat_minor": 4
}
