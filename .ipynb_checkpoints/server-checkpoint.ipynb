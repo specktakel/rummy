{
 "cells": [
  {
   "cell_type": "code",
   "execution_count": null,
   "metadata": {},
   "outputs": [],
   "source": [
    "from _thread import *\n",
    "import socket\n",
    "import sys"
   ]
  },
  {
   "cell_type": "code",
   "execution_count": null,
   "metadata": {},
   "outputs": [],
   "source": [
    "server = \"192.168.178.21\"\n",
    "port = 5555"
   ]
  },
  {
   "cell_type": "code",
   "execution_count": null,
   "metadata": {},
   "outputs": [],
   "source": [
    "s = socket.socket(socket.AF_INET, socket.SOCK_STREAM)\n",
    "try:\n",
    "    s.bind((server, port))\n",
    "except socket.error as e:\n",
    "    print(e)\n",
    "\n",
    "s.listen(2)\n",
    "print(\"Waiting\")\n",
    "\n",
    "def read_pos(pos):\n",
    "    pos = pos.split(\",\")\n",
    "    return int(pos[0]), int(pos[1])\n",
    "\n",
    "def make_pos(tup):\n",
    "    return f\"{tup[0]}, {tup[1]}\"\n",
    "\n",
    "pos = [(0, 0), (100, 100)]\n",
    "\n",
    "def threaded_client(conn, player):\n",
    "    conn.send(str.encode(make_pos(pos[player])))\n",
    "\n",
    "    while True:\n",
    "        try:\n",
    "            data = read_pos(conn.recv(2048).decode())\n",
    "            pos[player] = data\n",
    "            \n",
    "            if not data:\n",
    "                print(\"Disconnected\")\n",
    "                break\n",
    "            else:\n",
    "                if player == 1:\n",
    "                    reply = pos[0]\n",
    "                else:\n",
    "                    reply = pos[1]\n",
    "                print(\"Received:\", data)\n",
    "                print(\"Sending:\", reply)\n",
    "            conn.sendall(str.encode(make_pos(reply)))\n",
    "        except:\n",
    "            break\n",
    "    print(\"Lost connection\")\n",
    "    conn.close()\n",
    "\n",
    "currentPlayer = 0\n",
    "while True:\n",
    "    conn, addr = s.accept()\n",
    "    print(\"Connected to\", addr)\n",
    "    start_new_thread(threaded_client, (conn, currentPlayer))\n",
    "    currentPlayer += 1\n",
    "\n",
    "\n"
   ]
  },
  {
   "cell_type": "code",
   "execution_count": null,
   "metadata": {},
   "outputs": [],
   "source": [
    "\"lol\".encode()"
   ]
  },
  {
   "cell_type": "code",
   "execution_count": null,
   "metadata": {},
   "outputs": [],
   "source": [
    "str.encode(\"lol\")"
   ]
  },
  {
   "cell_type": "code",
   "execution_count": null,
   "metadata": {},
   "outputs": [],
   "source": []
  }
 ],
 "metadata": {
  "kernelspec": {
   "display_name": "Python 3",
   "language": "python",
   "name": "python3"
  },
  "language_info": {
   "codemirror_mode": {
    "name": "ipython",
    "version": 3
   },
   "file_extension": ".py",
   "mimetype": "text/x-python",
   "name": "python",
   "nbconvert_exporter": "python",
   "pygments_lexer": "ipython3",
   "version": "3.7.9"
  }
 },
 "nbformat": 4,
 "nbformat_minor": 4
}
