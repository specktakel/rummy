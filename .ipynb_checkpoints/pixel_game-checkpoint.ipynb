{
 "cells": [
  {
   "cell_type": "code",
   "execution_count": 2,
   "metadata": {},
   "outputs": [
    {
     "name": "stdout",
     "output_type": "stream",
     "text": [
      "pygame 2.0.0 (SDL 2.0.12, python 3.7.9)\n",
      "Hello from the pygame community. https://www.pygame.org/contribute.html\n"
     ]
    }
   ],
   "source": [
    "import os\n",
    "import sys\n",
    "import pygame\n",
    "pygame.init()\n",
    "from network import Network"
   ]
  },
  {
   "cell_type": "code",
   "execution_count": null,
   "metadata": {
    "scrolled": true
   },
   "outputs": [],
   "source": [
    "\n",
    "width = 500\n",
    "height = 500\n",
    "win = pygame.display.set_mode((width, height))\n",
    "pygame.display.set_caption(\"Client\")\n",
    "\n",
    "clientNumber = 0\n",
    "\n",
    "\n",
    "class Player():\n",
    "    \n",
    "    def __init__(self, x, y, width, height, colour):\n",
    "        self.x = x\n",
    "        self.y = y\n",
    "        self.width = width\n",
    "        self.height = height\n",
    "        self.colour = colour\n",
    "        self.rect = (x, y, width, height)\n",
    "        self.vel = 3\n",
    "    def draw(self, win):\n",
    "        pygame.draw.rect(win, self.colour, self.rect)\n",
    "    \n",
    "    def move(self):\n",
    "        keys = pygame.key.get_pressed()\n",
    "        if keys[pygame.K_LEFT]:\n",
    "            self.x -= self.vel\n",
    "        if keys[pygame.K_RIGHT]:\n",
    "            self.x += self.vel\n",
    "        if keys[pygame.K_UP]:\n",
    "            self.y -= self.vel\n",
    "        if keys[pygame.K_DOWN]:\n",
    "            self.y += self.vel\n",
    "        self.update()\n",
    "    \n",
    "    def update(self):\n",
    "        self.rect = (self.x, self.y, self.width, self.height)\n",
    "\n",
    "def read_pos(pos):\n",
    "    pos = pos.split(\",\")\n",
    "    return int(pos[0]), int(pos[1])\n",
    "\n",
    "def make_pos(tup):\n",
    "    return f\"{tup[0]}, {tup[1]}\" \n",
    "\n",
    "def redrawWindow(win, player, player2):\n",
    "    win.fill((255, 255, 255))\n",
    "    player.draw(win)\n",
    "    player2.draw(win)\n",
    "    pygame.display.update()\n",
    "\n",
    "\n",
    "def main():\n",
    "    n = Network()\n",
    "    startPos = read_pos(n.getPos())\n",
    "    p = Player(startPos[0], startPos[1], 100, 100, (0, 255, 0))\n",
    "    p2 = Player(0, 0, 100, 100, (255, 0, 0))\n",
    "    run = True\n",
    "    clock = pygame.time.Clock()\n",
    "    while run:\n",
    "        clock.tick(60)\n",
    "        \n",
    "        p2Pos = read_pos(n.send(make_pos((p.x, p.y))))\n",
    "        p2.x = p2Pos[0]\n",
    "        p2.y = p2Pos[1]\n",
    "        p2.update()\n",
    "        \n",
    "        \n",
    "        for event in pygame.event.get():\n",
    "            if event.type == pygame.QUIT:\n",
    "                run = False\n",
    "                pygame.quit()\n",
    "        p.move()\n",
    "        redrawWindow(win, p, p2)\n",
    "main()\n"
   ]
  },
  {
   "cell_type": "code",
   "execution_count": null,
   "metadata": {},
   "outputs": [],
   "source": []
  }
 ],
 "metadata": {
  "kernelspec": {
   "display_name": "Python 3",
   "language": "python",
   "name": "python3"
  },
  "language_info": {
   "codemirror_mode": {
    "name": "ipython",
    "version": 3
   },
   "file_extension": ".py",
   "mimetype": "text/x-python",
   "name": "python",
   "nbconvert_exporter": "python",
   "pygments_lexer": "ipython3",
   "version": "3.7.9"
  }
 },
 "nbformat": 4,
 "nbformat_minor": 4
}
