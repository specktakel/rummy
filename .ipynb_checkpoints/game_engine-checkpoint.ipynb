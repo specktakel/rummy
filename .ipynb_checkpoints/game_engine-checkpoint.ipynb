{
 "cells": [
  {
   "cell_type": "code",
   "execution_count": 1,
   "metadata": {},
   "outputs": [],
   "source": [
    "import numpy as np\n",
    "import random"
   ]
  },
  {
   "cell_type": "code",
   "execution_count": 2,
   "metadata": {},
   "outputs": [],
   "source": [
    "class Table():\n",
    "    def __init__(self, *player_names):\n",
    "        self.colours = np.array(['red', 'blue', 'yellow', 'black'])\n",
    "        self.numbers = np.arange(1, 14, dtype=int)\n",
    "        self.stones = []\n",
    "        self.players = []\n",
    "        # self.blocks = []     # can't access this attribute from child class, useless as of now\n",
    "        self.grid = [[None for j in range(28)] for i in range(6)]   #i:j, i:row, j:column, is 6 rows by 28 columns\n",
    "        for c in self.colours:\n",
    "            for num in self.numbers:\n",
    "                self.stones.append(Stone(colour=c, number=num))\n",
    "                self.stones.append(Stone(colour=c, number=num))\n",
    "                # print(c, num)\n",
    "        #self.stones.append(stone(j=True))\n",
    "        #self.stones.append(stone(j=True))\n",
    "        for c, name in enumerate(player_names):\n",
    "            self.players.append(Player(name=name, num=c))\n",
    "        #print(self.players)\n",
    "        # distribute stones randomly into players' inventories:\n",
    "        self.rand_order = np.array(random.sample(range(len(self.stones)), len(self.players) * 14))\n",
    "        # print(rand_order)\n",
    "        for c, p in enumerate(self.players):\n",
    "            for i in range(c * 14, (c + 1) * 14):\n",
    "                self.stones[self.rand_order[i]].owner = p.name\n",
    "                p.inventory.append(self.stones[self.rand_order[i]])\n",
    "        self.stones = [s for c, s in enumerate(self.stones) if not c in self.rand_order]\n",
    "\n",
    "\n",
    "\n",
    "    def draw_stone(self, num):\n",
    "        try:\n",
    "            i = random.sample(range(len(self.stones)), 1)[0]\n",
    "            self.stones[i].owner = self.players[num].name\n",
    "            self.players[num].inventory.append(self.stones[i])\n",
    "            self.stones.pop(i)\n",
    "        except ValueError:\n",
    "            pass\n",
    "\n",
    "\n",
    "\n",
    "\n",
    "\n",
    "    def move_stone(self, init, final):\n",
    "        x1 = init[0]\n",
    "        y1 = init[1]\n",
    "        x2 = final[0]\n",
    "        y2 = final[1]\n",
    "        if self.grid[x2][y2] is None and self.grid[x1][y1] is not None:\n",
    "            s = self.grid[x1][y1]\n",
    "            self.grid[x2][y2] = s\n",
    "            self.grid[x1][y1] = None\n",
    "        else:\n",
    "            pass     # TODO maybe add reaction for the table to indicate impossible move!\n",
    "\n",
    "\n",
    "    def set_stone(self, stone, final):\n",
    "        x = final[0]\n",
    "        y = final[1]\n",
    "        if self.grid[x][y] is not None.\n",
    "            self.grid[x][y] = stone\n",
    "\n",
    "\n",
    "    def reset_all_moves(self):\n",
    "        pass\n",
    "        # need to write method to reset all stuff a\n",
    "        \n",
    "        \n",
    "    def move_done(self):\n",
    "        valid = self.build_blocks()\n",
    "        return valid\n",
    "\n",
    "\n",
    "    def build_blocks(self):\n",
    "        for c, row in enumerate(self.grid):    # run through rows\n",
    "            b = []\n",
    "            for slot in row:\n",
    "                if slot != None:\n",
    "                    b.append(slot)\n",
    "                else:\n",
    "                    bl = Block(b)\n",
    "                    try:\n",
    "                        valid = np.append(valid, b.check_rules())\n",
    "                    except NameError:\n",
    "                        valid = np.array([b.check_rules()])\n",
    "                    b = []\n",
    "        return np.all(valid)\n",
    "                        \n",
    "                    \n",
    "                \n",
    "                    \n",
    "            \n",
    "class Stone(Table):\n",
    "    '''Class to define stones, their behaviour etc.\n",
    "    '''\n",
    "    \n",
    "    def __init__(self, colour=None, number=None, j=False):\n",
    "        if j:\n",
    "            self.joker = True\n",
    "            self.num = None\n",
    "            self.c = None\n",
    "        else:\n",
    "            self.joker = False\n",
    "            self.num = number\n",
    "            self.c = colour\n",
    "            if self.num == 13:\n",
    "                self.n_h = 1\n",
    "            else:\n",
    "                self.n_h = self.num + 1\n",
    "            \n",
    "            if self.num == 1:\n",
    "                self.n_l = 13\n",
    "            else:\n",
    "                self.n_l = self.num -1\n",
    "    \n",
    "        self.owner = 'table'\n",
    "\n",
    "        \n",
    "class Player(Table):\n",
    "    def __init__(self, name=None, num=None):\n",
    "        self.inventory = []\n",
    "        self.name = name\n",
    "        self.number = num\n",
    "        print(self.name)\n",
    "\n",
    "\n",
    "\n",
    "\n",
    "\n",
    "class Block(Table):\n",
    "    def __init__(self, stones):\n",
    "        self.stones = stones\n",
    "        self.valid = self.check_rules()\n",
    "        \n",
    "\n",
    "    def check_rules(self):\n",
    "        self.colours = np.array([s.c for s in self.stones])\n",
    "        self.numbers = np.array([s.num for s in self.stones])\n",
    "        self.same_colours = self._same_colours()\n",
    "        self.diff_colours = self._diff_colours()\n",
    "        self.same_numbers = self._same_numbers()\n",
    "        self.cons_numbers = self._cons_numbers()\n",
    "        self.length = len(self.stones)\n",
    "        if self.same_colours and self.cons_numbers and self.length >= 3:\n",
    "            self.valid = True\n",
    "        elif self.diff_colours and self.same_numbers and self.lengt >= 3:\n",
    "            self.vaild = True\n",
    "        else:\n",
    "            self.valid = False\n",
    "        return self.valid\n",
    "        #self.consecutive_numbers = \n",
    "        #if  # and consecutive numbers:\n",
    "        #    return True\n",
    "        #elif np.all([i == self.numbers[0] for i in self.numbers]) # and different colours:\n",
    "        #    return True\n",
    "        #else:\n",
    "        #    return False\n",
    "\n",
    "    def _same_colours(self):\n",
    "        return np.all([i == self.colours[0] for i in self.colours])\n",
    "    \n",
    "    def _diff_colours(self):\n",
    "        if len(self.colours) == len(set(self.colours)):\n",
    "            return True\n",
    "        else:\n",
    "            return False\n",
    "    \n",
    "    def _same_numbers(self):\n",
    "        return np.all([i == self.numbers[0] for i in self.numbers])\n",
    "        \n",
    "        \n",
    "    def _cons_numbers(self):  \n",
    "        self.stones_out = self.stones[1:].copy()\n",
    "        self.stones_in = [self.stones[0]]\n",
    "        # print(self.stones_in[0].num)\n",
    "        diff = True\n",
    "        while diff:\n",
    "            for c, s_out in enumerate(self.stones_out):\n",
    "                if s_out.num == self.stones_in[-1].n_h:\n",
    "                    self.stones_in.append(s_out)\n",
    "                    self.stones_out.pop(c)\n",
    "                    break\n",
    "                elif s_out.num == self.stones_in[0].n_l:\n",
    "                    self.stones_in.insert(0, s_out)\n",
    "                    self.stones_out.pop(c)\n",
    "                    break\n",
    "            else:\n",
    "                diff = False\n",
    "    \n",
    "        if len(self.stones_out) == 0:\n",
    "            self.stones = self.stones_in.copy()\n",
    "            del self.stones_out\n",
    "            del self.stones_in\n",
    "            return True\n",
    "        else:\n",
    "            del self.stones_out\n",
    "            del self.stones_in\n",
    "        return False\n",
    "       \n",
    "                \n",
    "                    \n",
    "                    "
   ]
  },
  {
   "cell_type": "code",
   "execution_count": 3,
   "metadata": {},
   "outputs": [
    {
     "name": "stdout",
     "output_type": "stream",
     "text": [
      "alina\n",
      "julian\n"
     ]
    }
   ],
   "source": [
    "table = Table('alina', 'julian')"
   ]
  },
  {
   "cell_type": "code",
   "execution_count": 63,
   "metadata": {},
   "outputs": [],
   "source": [
    "table.draw_stone(0)"
   ]
  },
  {
   "cell_type": "code",
   "execution_count": 64,
   "metadata": {},
   "outputs": [
    {
     "data": {
      "text/plain": [
       "15"
      ]
     },
     "execution_count": 64,
     "metadata": {},
     "output_type": "execute_result"
    }
   ],
   "source": [
    "len(table.players[0].inventory)"
   ]
  },
  {
   "cell_type": "code",
   "execution_count": 65,
   "metadata": {},
   "outputs": [
    {
     "name": "stdout",
     "output_type": "stream",
     "text": [
      "alina\n",
      "['yellow', 'blue', 'red', 'black', 'black', 'blue', 'blue', 'yellow', 'black', 'blue', 'red', 'blue', 'black', 'red', 'red']\n",
      "[3, 10, 4, 11, 9, 4, 8, 6, 5, 13, 2, 6, 7, 13, 13]\n",
      "[False, False, False, False, False, False, False, False, False, False, False, False, False, False, False]\n",
      "julian\n",
      "['black', 'red', 'black', 'yellow', 'red', 'red', 'black', 'black', 'red', 'yellow', 'red', 'yellow', 'blue', 'yellow']\n",
      "[8, 12, 6, 8, 1, 2, 2, 7, 3, 1, 9, 7, 9, 13]\n",
      "[False, False, False, False, False, False, False, False, False, False, False, False, False, False]\n"
     ]
    }
   ],
   "source": [
    "for player in table.players:\n",
    "    print(player.name)\n",
    "    print(list(s.c for s in player.inventory))\n",
    "    print(list(s.num for s in player.inventory))\n",
    "    print(list(s.joker for s in player.inventory))"
   ]
  },
  {
   "cell_type": "code",
   "execution_count": 66,
   "metadata": {},
   "outputs": [],
   "source": [
    "b = Block(table.players[0].inventory[0:4])"
   ]
  },
  {
   "cell_type": "code",
   "execution_count": 38,
   "metadata": {},
   "outputs": [
    {
     "name": "stdout",
     "output_type": "stream",
     "text": [
      "7\n",
      "11\n",
      "9\n",
      "11\n"
     ]
    }
   ],
   "source": [
    "for s in b.stones: print(s.num)"
   ]
  },
  {
   "cell_type": "code",
   "execution_count": 67,
   "metadata": {},
   "outputs": [
    {
     "data": {
      "text/plain": [
       "False"
      ]
     },
     "execution_count": 67,
     "metadata": {},
     "output_type": "execute_result"
    }
   ],
   "source": [
    "b.check_rules()"
   ]
  },
  {
   "cell_type": "code",
   "execution_count": 40,
   "metadata": {},
   "outputs": [],
   "source": [
    "s = Stone(colour = 'black', number=13)"
   ]
  },
  {
   "cell_type": "code",
   "execution_count": 41,
   "metadata": {},
   "outputs": [
    {
     "data": {
      "text/plain": [
       "True"
      ]
     },
     "execution_count": 41,
     "metadata": {},
     "output_type": "execute_result"
    }
   ],
   "source": [
    "c = 'black'\n",
    "\n",
    "s = [Stone(colour=c,  number=1), Stone(colour=c, number=2), Stone(colour=c, number=3)]\n",
    "b = Block(s)\n",
    "b.check_rules()"
   ]
  },
  {
   "cell_type": "code",
   "execution_count": 54,
   "metadata": {},
   "outputs": [
    {
     "name": "stdout",
     "output_type": "stream",
     "text": [
      "[1, 2, 3, 43]\n",
      "[5, 6, 7, 8]\n"
     ]
    }
   ],
   "source": [
    "l = [[1, 2, 3, 43], [5, 6, 7, 8]]\n",
    "for i in l:\n",
    "    print(i)"
   ]
  },
  {
   "cell_type": "code",
   "execution_count": null,
   "metadata": {},
   "outputs": [],
   "source": []
  },
  {
   "cell_type": "code",
   "execution_count": null,
   "metadata": {},
   "outputs": [],
   "source": [
    "l = [1, 2, 3, 4]\n",
    "ind = [2, 3]\n",
    "l = [v for c, v in enumerate(l) if not c in ind]"
   ]
  },
  {
   "cell_type": "code",
   "execution_count": 53,
   "metadata": {},
   "outputs": [
    {
     "ename": "ValueError",
     "evalue": "Sample larger than population or is negative",
     "output_type": "error",
     "traceback": [
      "\u001b[0;31m---------------------------------------------------------------------------\u001b[0m",
      "\u001b[0;31mValueError\u001b[0m                                Traceback (most recent call last)",
      "\u001b[0;32m<ipython-input-53-32962229d09d>\u001b[0m in \u001b[0;36m<module>\u001b[0;34m()\u001b[0m\n\u001b[1;32m      1\u001b[0m \u001b[0ml\u001b[0m \u001b[0;34m=\u001b[0m \u001b[0;34m[\u001b[0m\u001b[0;34m]\u001b[0m\u001b[0;34m\u001b[0m\u001b[0;34m\u001b[0m\u001b[0m\n\u001b[0;32m----> 2\u001b[0;31m \u001b[0mrandom\u001b[0m\u001b[0;34m.\u001b[0m\u001b[0msample\u001b[0m\u001b[0;34m(\u001b[0m\u001b[0mrange\u001b[0m\u001b[0;34m(\u001b[0m\u001b[0mlen\u001b[0m\u001b[0;34m(\u001b[0m\u001b[0ml\u001b[0m\u001b[0;34m)\u001b[0m\u001b[0;34m)\u001b[0m\u001b[0;34m,\u001b[0m \u001b[0;36m1\u001b[0m\u001b[0;34m)\u001b[0m\u001b[0;34m\u001b[0m\u001b[0;34m\u001b[0m\u001b[0m\n\u001b[0m",
      "\u001b[0;32m/home/julian/anaconda3/envs/game/lib/python3.7/random.py\u001b[0m in \u001b[0;36msample\u001b[0;34m(self, population, k)\u001b[0m\n\u001b[1;32m    319\u001b[0m         \u001b[0mn\u001b[0m \u001b[0;34m=\u001b[0m \u001b[0mlen\u001b[0m\u001b[0;34m(\u001b[0m\u001b[0mpopulation\u001b[0m\u001b[0;34m)\u001b[0m\u001b[0;34m\u001b[0m\u001b[0;34m\u001b[0m\u001b[0m\n\u001b[1;32m    320\u001b[0m         \u001b[0;32mif\u001b[0m \u001b[0;32mnot\u001b[0m \u001b[0;36m0\u001b[0m \u001b[0;34m<=\u001b[0m \u001b[0mk\u001b[0m \u001b[0;34m<=\u001b[0m \u001b[0mn\u001b[0m\u001b[0;34m:\u001b[0m\u001b[0;34m\u001b[0m\u001b[0;34m\u001b[0m\u001b[0m\n\u001b[0;32m--> 321\u001b[0;31m             \u001b[0;32mraise\u001b[0m \u001b[0mValueError\u001b[0m\u001b[0;34m(\u001b[0m\u001b[0;34m\"Sample larger than population or is negative\"\u001b[0m\u001b[0;34m)\u001b[0m\u001b[0;34m\u001b[0m\u001b[0;34m\u001b[0m\u001b[0m\n\u001b[0m\u001b[1;32m    322\u001b[0m         \u001b[0mresult\u001b[0m \u001b[0;34m=\u001b[0m \u001b[0;34m[\u001b[0m\u001b[0;32mNone\u001b[0m\u001b[0;34m]\u001b[0m \u001b[0;34m*\u001b[0m \u001b[0mk\u001b[0m\u001b[0;34m\u001b[0m\u001b[0;34m\u001b[0m\u001b[0m\n\u001b[1;32m    323\u001b[0m         \u001b[0msetsize\u001b[0m \u001b[0;34m=\u001b[0m \u001b[0;36m21\u001b[0m        \u001b[0;31m# size of a small set minus size of an empty list\u001b[0m\u001b[0;34m\u001b[0m\u001b[0;34m\u001b[0m\u001b[0m\n",
      "\u001b[0;31mValueError\u001b[0m: Sample larger than population or is negative"
     ]
    }
   ],
   "source": [
    "l = []\n",
    "random.sample(range(len(l)), 1)"
   ]
  },
  {
   "cell_type": "code",
   "execution_count": null,
   "metadata": {},
   "outputs": [],
   "source": [
    "l[0]= 2"
   ]
  },
  {
   "cell_type": "code",
   "execution_count": null,
   "metadata": {},
   "outputs": [],
   "source": [
    "c"
   ]
  },
  {
   "cell_type": "code",
   "execution_count": 59,
   "metadata": {},
   "outputs": [
    {
     "ename": "NameError",
     "evalue": "name 'a' is not defined",
     "output_type": "error",
     "traceback": [
      "\u001b[0;31m---------------------------------------------------------------------------\u001b[0m",
      "\u001b[0;31mNameError\u001b[0m                                 Traceback (most recent call last)",
      "\u001b[0;32m<ipython-input-59-104dcb7555df>\u001b[0m in \u001b[0;36m<module>\u001b[0;34m()\u001b[0m\n\u001b[0;32m----> 1\u001b[0;31m \u001b[0ma\u001b[0m \u001b[0;34m=\u001b[0m \u001b[0mnp\u001b[0m\u001b[0;34m.\u001b[0m\u001b[0mappend\u001b[0m\u001b[0;34m(\u001b[0m\u001b[0ma\u001b[0m\u001b[0;34m,\u001b[0m \u001b[0;36m1\u001b[0m\u001b[0;34m)\u001b[0m\u001b[0;34m\u001b[0m\u001b[0;34m\u001b[0m\u001b[0m\n\u001b[0m",
      "\u001b[0;31mNameError\u001b[0m: name 'a' is not defined"
     ]
    }
   ],
   "source": [
    "a = np.append(a, 1)"
   ]
  },
  {
   "cell_type": "code",
   "execution_count": null,
   "metadata": {},
   "outputs": [],
   "source": []
  }
 ],
 "metadata": {
  "kernelspec": {
   "display_name": "Python 3",
   "language": "python",
   "name": "python3"
  },
  "language_info": {
   "codemirror_mode": {
    "name": "ipython",
    "version": 3
   },
   "file_extension": ".py",
   "mimetype": "text/x-python",
   "name": "python",
   "nbconvert_exporter": "python",
   "pygments_lexer": "ipython3",
   "version": "3.7.9"
  }
 },
 "nbformat": 4,
 "nbformat_minor": 4
}
