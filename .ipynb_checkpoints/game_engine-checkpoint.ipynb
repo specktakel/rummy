{
 "cells": [
  {
   "cell_type": "code",
   "execution_count": 1,
   "metadata": {},
   "outputs": [],
   "source": [
    "import numpy as np\n",
    "import random"
   ]
  },
  {
   "cell_type": "code",
   "execution_count": 176,
   "metadata": {},
   "outputs": [],
   "source": [
    "class table():\n",
    "    colours = np.array(['red', 'blue', 'yellow', 'black'])\n",
    "    numbers = np.arange(1, 14, dtype=int)\n",
    "    stones = []\n",
    "    players = []\n",
    "    blocks = []\n",
    "    def __init__(self, *player_names):\n",
    "        for c in self.colours:\n",
    "            for num in self.numbers:\n",
    "                stone(colour=c, number=num)\n",
    "                stone(colour=c, number=num)\n",
    "                # print(c, num)\n",
    "        #self.stones.append(stone(j=True))\n",
    "        #self.stones.append(stone(j=True))\n",
    "        for name in player_names:\n",
    "            player(name=name)\n",
    "        #print(self.players)\n",
    "        # distribute stones randomly into players' inventories:\n",
    "        rand_order = np.array(random.sample(range(len(self.stones)), len(self.players) * 14), dtype=int)\n",
    "        print(rand_order)\n",
    "        for c, p in enumerate(self.players):\n",
    "            for i in range(c * 14, (c + 1) * 14):\n",
    "                self.stones[rand_order[i]].owner = p.name\n",
    "                p.inventory.append(self.stones[rand_order[i]])\n",
    "\n",
    "    \n",
    "            \n",
    "class stone(table):\n",
    "    '''Class to define stones, their behaviour etc.\n",
    "    '''\n",
    "    \n",
    "    def __init__(self, colour=None, number=None, j=False):\n",
    "        '''Initialize stones from file.\n",
    "        '''\n",
    "        \n",
    "        if j:\n",
    "            self.joker = True\n",
    "            self.num = None\n",
    "            self.c = None\n",
    "        else:\n",
    "            self.joker = False\n",
    "            self.num = number\n",
    "            self.c = colour\n",
    "            if self.num == 13:\n",
    "                self.n_h = 1\n",
    "            else:\n",
    "                self.n_h = self.num + 1\n",
    "            \n",
    "            if self.num == 1:\n",
    "                self.n_l = 13\n",
    "            else:\n",
    "                self.n_l = self.num -1\n",
    "    \n",
    "        self.owner = 'table'\n",
    "        super(stone, self).stones.append(self)\n",
    "        \n",
    "class player(table):\n",
    "    def __init__(self, name=None):\n",
    "        self.inventory = []\n",
    "        self.name = name\n",
    "        super(player, self).players.append(self)\n",
    "        print(self.name)\n",
    "    \n",
    "    def set_stone(self):\n",
    "        pass\n",
    "\n",
    "class block(table):\n",
    "    def __init__(self, stones):\n",
    "        self.stones = stones\n",
    "        super(block, self).blocks.append(self)\n",
    "        self.valid = self.check_rules()\n",
    "        \n",
    "\n",
    "    def check_rules(self):\n",
    "        self.colours = np.array([s.c for s in self.stones])\n",
    "        self.numbers = np.array([s.num for s in self.stones])\n",
    "        self.same_colours = self._same_colours()\n",
    "        self.same_numbers = self._same_numbers()\n",
    "        self.length = len(self.stones)\n",
    "        self.cons_numbers = self._cons_numbers()\n",
    "        #self.consecutive_numbers = \n",
    "        #if  # and consecutive numbers:\n",
    "        #    return True\n",
    "        #elif np.all([i == self.numbers[0] for i in self.numbers]) # and different colours:\n",
    "        #    return True\n",
    "        #else:\n",
    "        #    return False\n",
    "\n",
    "    def _same_colours(self):\n",
    "        return np.all([i == self.colours[0] for i in self.colours])\n",
    "    \n",
    "    def _diff_colours(self):\n",
    "        if len(self.colours) == len(set(self.colours)):\n",
    "            return True\n",
    "        else:\n",
    "            return False\n",
    "    \n",
    "    def _same_numbers(self):\n",
    "        return np.all([i == self.numbers[0] for i in self.numbers])\n",
    "        \n",
    "        \n",
    "    def _cons_numbers(self):  \n",
    "        self.stones_out = self.stones[1:].copy()\n",
    "        self.stones_in = [self.stones[0]]\n",
    "        # print(self.stones_in[0].num)\n",
    "        diff = True\n",
    "        while diff:\n",
    "            for c, s_out in enumerate(self.stones_out):\n",
    "                if s_out.num == self.stones_in[-1].n_h:\n",
    "                    self.stones_in.append(s_out)\n",
    "                    self.stones_out.pop(c)\n",
    "                    break\n",
    "                elif s_out.num == self.stones_in[0].n_l:\n",
    "                    self.stones_in.insert(0, s_out)\n",
    "                    self.stones_out.pop(c)\n",
    "                    break\n",
    "            else:\n",
    "                diff = False\n",
    "    \n",
    "        if len(self.stones_out) == 0:\n",
    "            self.stones = self.stones_in.copy()\n",
    "            del self.stones_out\n",
    "            del self.stones_in\n",
    "            return True\n",
    "        else:\n",
    "            del self.stones_out\n",
    "            del self.stones_in\n",
    "        return False\n",
    "       \n",
    "                \n",
    "                    \n",
    "                    "
   ]
  },
  {
   "cell_type": "code",
   "execution_count": 88,
   "metadata": {},
   "outputs": [
    {
     "name": "stdout",
     "output_type": "stream",
     "text": [
      "alina\n",
      "julian\n",
      "[87 50 16 12 57 24 21 65 89 75 53 76 17 47 80 20 78 10 30 95 42 99 90 73\n",
      " 18 28  2 71]\n"
     ]
    },
    {
     "data": {
      "text/plain": [
       "<__main__.table at 0x7f0b225142e8>"
      ]
     },
     "execution_count": 88,
     "metadata": {},
     "output_type": "execute_result"
    }
   ],
   "source": [
    "table('alina', 'julian')"
   ]
  },
  {
   "cell_type": "code",
   "execution_count": 69,
   "metadata": {},
   "outputs": [
    {
     "name": "stdout",
     "output_type": "stream",
     "text": [
      "alina\n",
      "['yellow', 'red', 'red', 'black', 'blue', 'red', 'black', 'yellow', 'yellow', 'yellow', 'black', 'yellow', 'yellow', 'red']\n",
      "[6, 13, 10, 3, 7, 4, 1, 9, 9, 5, 2, 12, 1, 1]\n",
      "[False, False, False, False, False, False, False, False, False, False, False, False, False, False]\n",
      "julian\n",
      "['yellow', 'red', 'blue', 'black', 'blue', 'red', 'red', 'black', 'black', 'red', 'yellow', 'blue', 'red', 'black']\n",
      "[8, 2, 5, 7, 12, 7, 3, 11, 8, 12, 6, 3, 2, 1]\n",
      "[False, False, False, False, False, False, False, False, False, False, False, False, False, False]\n"
     ]
    }
   ],
   "source": [
    "for player in table.players:\n",
    "    print(player.name)\n",
    "    print(list(s.c for s in player.inventory))\n",
    "    print(list(s.num for s in player.inventory))\n",
    "    print(list(s.joker for s in player.inventory))"
   ]
  },
  {
   "cell_type": "code",
   "execution_count": 70,
   "metadata": {},
   "outputs": [],
   "source": [
    "b = block(table.players[0].inventory[0:4])"
   ]
  },
  {
   "cell_type": "code",
   "execution_count": 71,
   "metadata": {},
   "outputs": [
    {
     "name": "stdout",
     "output_type": "stream",
     "text": [
      "6\n",
      "13\n",
      "10\n",
      "3\n"
     ]
    }
   ],
   "source": [
    "for s in b.stones: print(s.num)"
   ]
  },
  {
   "cell_type": "code",
   "execution_count": 73,
   "metadata": {},
   "outputs": [
    {
     "name": "stdout",
     "output_type": "stream",
     "text": [
      "[3 4 3]\n"
     ]
    }
   ],
   "source": [
    "b._cons_numbers()"
   ]
  },
  {
   "cell_type": "code",
   "execution_count": 18,
   "metadata": {},
   "outputs": [],
   "source": [
    "s = stone(colour = 'black', number=13)"
   ]
  },
  {
   "cell_type": "code",
   "execution_count": 177,
   "metadata": {},
   "outputs": [
    {
     "data": {
      "text/plain": [
       "(True, False, True)"
      ]
     },
     "execution_count": 177,
     "metadata": {},
     "output_type": "execute_result"
    }
   ],
   "source": [
    "c = 'black'\n",
    "\n",
    "s = [stone(colour='black', number=1), stone(colour='red', number=2)]\n",
    "b = block(s)\n",
    "b._cons_numbers(), b._same_colours(), b._diff_colours()"
   ]
  },
  {
   "cell_type": "code",
   "execution_count": 106,
   "metadata": {},
   "outputs": [
    {
     "name": "stdout",
     "output_type": "stream",
     "text": [
      "[1, 3, 5, 2, 4]\n"
     ]
    }
   ],
   "source": []
  },
  {
   "cell_type": "code",
   "execution_count": 107,
   "metadata": {},
   "outputs": [
    {
     "name": "stdout",
     "output_type": "stream",
     "text": [
      "[1 1 1 1]\n",
      "1 2\n",
      "3 4\n",
      "3 2\n",
      "5 4\n",
      "false counter 2\n"
     ]
    }
   ],
   "source": []
  },
  {
   "cell_type": "code",
   "execution_count": 119,
   "metadata": {},
   "outputs": [
    {
     "data": {
      "text/plain": [
       "1"
      ]
     },
     "execution_count": 119,
     "metadata": {},
     "output_type": "execute_result"
    }
   ],
   "source": [
    "l = [1, 2, 3, 4]\n",
    "l[0]"
   ]
  },
  {
   "cell_type": "code",
   "execution_count": 121,
   "metadata": {},
   "outputs": [],
   "source": [
    "c = l.copy()"
   ]
  },
  {
   "cell_type": "code",
   "execution_count": 122,
   "metadata": {},
   "outputs": [],
   "source": [
    "l[0]= 2"
   ]
  },
  {
   "cell_type": "code",
   "execution_count": 123,
   "metadata": {},
   "outputs": [
    {
     "data": {
      "text/plain": [
       "[1, 2, 3, 4]"
      ]
     },
     "execution_count": 123,
     "metadata": {},
     "output_type": "execute_result"
    }
   ],
   "source": [
    "c"
   ]
  },
  {
   "cell_type": "code",
   "execution_count": null,
   "metadata": {},
   "outputs": [],
   "source": []
  }
 ],
 "metadata": {
  "kernelspec": {
   "display_name": "Python 3",
   "language": "python",
   "name": "python3"
  },
  "language_info": {
   "codemirror_mode": {
    "name": "ipython",
    "version": 3
   },
   "file_extension": ".py",
   "mimetype": "text/x-python",
   "name": "python",
   "nbconvert_exporter": "python",
   "pygments_lexer": "ipython3",
   "version": "3.6.10"
  }
 },
 "nbformat": 4,
 "nbformat_minor": 4
}
