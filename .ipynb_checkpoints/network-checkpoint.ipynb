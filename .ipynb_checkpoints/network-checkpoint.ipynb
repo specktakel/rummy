{
 "cells": [
  {
   "cell_type": "code",
   "execution_count": 2,
   "metadata": {},
   "outputs": [],
   "source": []
  },
  {
   "cell_type": "code",
   "execution_count": 4,
   "metadata": {},
   "outputs": [
    {
     "name": "stdout",
     "output_type": "stream",
     "text": [
      "Connected!\n",
      "Hello!\n",
      "Working?\n"
     ]
    }
   ],
   "source": [
    "import socket\n",
    "\n",
    "class Network():\n",
    "    def __init__(self):\n",
    "        self.client = socket.socket(socket.AF_INET, socket.SOCK_STREAM)\n",
    "        self.server = \"192.168.178.21\"\n",
    "        self.port = 5555\n",
    "        self.addr = (self.server, self.port)\n",
    "        self.pos = self.connect()\n",
    "    \n",
    "    def getPos(self):\n",
    "        return self.pos\n",
    "    \n",
    "    def connect(self):\n",
    "        try:\n",
    "            self.client.connect(self.addr)\n",
    "            return self.client.recv(2048).decode(\"utf-8\")\n",
    "        except:\n",
    "            pass\n",
    "    def send(self, data):\n",
    "        try:\n",
    "            self.client.send(str.encode(data))\n",
    "            return self.client.recv(2048).decode()\n",
    "        except socket.error as e:\n",
    "            print(e)\n",
    "\n"
   ]
  },
  {
   "cell_type": "code",
   "execution_count": null,
   "metadata": {},
   "outputs": [],
   "source": []
  }
 ],
 "metadata": {
  "kernelspec": {
   "display_name": "Python 3",
   "language": "python",
   "name": "python3"
  },
  "language_info": {
   "codemirror_mode": {
    "name": "ipython",
    "version": 3
   },
   "file_extension": ".py",
   "mimetype": "text/x-python",
   "name": "python",
   "nbconvert_exporter": "python",
   "pygments_lexer": "ipython3",
   "version": "3.7.9"
  }
 },
 "nbformat": 4,
 "nbformat_minor": 4
}
