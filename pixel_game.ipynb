{
 "cells": [
  {
   "cell_type": "code",
   "execution_count": null,
   "metadata": {},
   "outputs": [],
   "source": [
    "import os\n",
    "import sys\n",
    "import pygame\n",
    "pygame.init()\n",
    "from network import Network\n",
    "from player import Player"
   ]
  },
  {
   "cell_type": "code",
   "execution_count": null,
   "metadata": {
    "scrolled": true
   },
   "outputs": [],
   "source": [
    "\n",
    "width = 500\n",
    "height = 500\n",
    "win = pygame.display.set_mode((width, height))\n",
    "pygame.display.set_caption(\"Client\")\n",
    "\n",
    "\n",
    "\n",
    "def redrawWindow(win, player, player2):\n",
    "    win.fill((255, 255, 255))\n",
    "    player.draw(win)\n",
    "    player2.draw(win)\n",
    "    pygame.display.update()\n",
    "\n",
    "\n",
    "def main():\n",
    "    n = Network()\n",
    "    p = n.getP()\n",
    "    \n",
    "    run = True\n",
    "    clock = pygame.time.Clock()\n",
    "    while run:\n",
    "        clock.tick(60)\n",
    "        p2 = n.send(p)\n",
    "        \n",
    "        \n",
    "        \n",
    "        for event in pygame.event.get():\n",
    "            if event.type == pygame.QUIT:\n",
    "                run = False\n",
    "                pygame.quit()\n",
    "        p.move()\n",
    "        redrawWindow(win, p, p2)\n",
    "main()\n"
   ]
  },
  {
   "cell_type": "code",
   "execution_count": null,
   "metadata": {},
   "outputs": [],
   "source": []
  },
  {
   "cell_type": "code",
   "execution_count": null,
   "metadata": {},
   "outputs": [],
   "source": []
  }
 ],
 "metadata": {
  "kernelspec": {
   "display_name": "Python 3",
   "language": "python",
   "name": "python3"
  },
  "language_info": {
   "codemirror_mode": {
    "name": "ipython",
    "version": 3
   },
   "file_extension": ".py",
   "mimetype": "text/x-python",
   "name": "python",
   "nbconvert_exporter": "python",
   "pygments_lexer": "ipython3",
   "version": "3.7.9"
  }
 },
 "nbformat": 4,
 "nbformat_minor": 4
}
